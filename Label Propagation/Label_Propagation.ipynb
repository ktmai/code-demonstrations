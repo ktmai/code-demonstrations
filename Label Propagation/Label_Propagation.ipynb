{
  "nbformat": 4,
  "nbformat_minor": 0,
  "metadata": {
    "colab": {
      "name": "Label Propagation.ipynb",
      "provenance": [],
      "collapsed_sections": []
    },
    "kernelspec": {
      "name": "python3",
      "display_name": "Python 3"
    }
  },
  "cells": [
    {
      "cell_type": "markdown",
      "metadata": {
        "id": "taWfYLqVikpk",
        "colab_type": "text"
      },
      "source": [
        "# Label Propagation\n",
        "\n",
        "Quick implementation of label propagation on a two moon dataset with comparisons to a support vector machine and k-nearest neighbours. More information found on my [blog post](https://ktmai.github.io/2019-12/label-propagation)."
      ]
    },
    {
      "cell_type": "code",
      "metadata": {
        "id": "tsRZG23yhwa0",
        "colab_type": "code",
        "colab": {}
      },
      "source": [
        "import numpy as np\n",
        "import matplotlib.pyplot as plt\n",
        "from sklearn.datasets import make_moons\n",
        "from sklearn import svm\n",
        "from sklearn.neighbors import KNeighborsClassifier"
      ],
      "execution_count": 0,
      "outputs": []
    },
    {
      "cell_type": "markdown",
      "metadata": {
        "id": "i5LKNC-Aj64j",
        "colab_type": "text"
      },
      "source": [
        "We will generate a two moon dataset with some noise."
      ]
    },
    {
      "cell_type": "code",
      "metadata": {
        "id": "Jo9Cp9-Ki3HH",
        "colab_type": "code",
        "colab": {}
      },
      "source": [
        "X, y = make_moons(noise=0.1)"
      ],
      "execution_count": 0,
      "outputs": []
    },
    {
      "cell_type": "markdown",
      "metadata": {
        "id": "MFLpqwGzk0cj",
        "colab_type": "text"
      },
      "source": [
        "Let's plot all of the points in the ideal situation where all points are known."
      ]
    },
    {
      "cell_type": "code",
      "metadata": {
        "id": "tIa-wUiKk2gr",
        "colab_type": "code",
        "colab": {}
      },
      "source": [
        "def plot_points(X, y, X_test = None, y_test = None):\n",
        "  plt.figure(figsize=(10,10))\n",
        "  colour = ['red' if label == 0 else 'blue' if label == 1 else 'gray' for label in y]\n",
        "  plt.scatter(X[:,0], X[:,1], color=colour)\n",
        "  if X_test is not None:\n",
        "    colour = ['red' if label == 0 else 'blue' if label == 1 else 'gray' for label in y_test]\n",
        "    plt.scatter(X_test[:,0], X_test[:,1], color = colour, marker='+')\n",
        "  plt.show()"
      ],
      "execution_count": 0,
      "outputs": []
    },
    {
      "cell_type": "code",
      "metadata": {
        "id": "QZS26LzglbU9",
        "colab_type": "code",
        "outputId": "cf6ddf54-486e-43de-b7ef-e9f766faefa3",
        "colab": {
          "base_uri": "https://localhost:8080/",
          "height": 592
        }
      },
      "source": [
        "# Visualise the points\n",
        "plot_points(X,y)"
      ],
      "execution_count": 4,
      "outputs": [
        {
          "output_type": "display_data",
          "data": {
            "image/png": "[encoded data removed]",
            "text/plain": [
              "<Figure size 720x720 with 1 Axes>"
            ]
          },
          "metadata": {
            "tags": []
          }
        }
      ]
    },
    {
      "cell_type": "markdown",
      "metadata": {
        "id": "eZPcvW9alpnk",
        "colab_type": "text"
      },
      "source": [
        "Let's create a semi-supervised setting by only assigning labels to two points. For visualisation purposes, we will set the remaining labels to -1."
      ]
    },
    {
      "cell_type": "code",
      "metadata": {
        "id": "dJlREWh5mGic",
        "colab_type": "code",
        "colab": {}
      },
      "source": [
        "# Create a new array of labels\n",
        "y_prime = -1*np.ones(y.shape)\n",
        "\n",
        "# Assign labels to the furtherst left and right samples\n",
        "X_min = np.argmin(X, axis=0)[0]\n",
        "X_max = np.argmax(X, axis=0)[0]\n",
        "\n",
        "y_prime[X_min] = 0\n",
        "y_prime[X_max] = 1"
      ],
      "execution_count": 0,
      "outputs": []
    },
    {
      "cell_type": "code",
      "metadata": {
        "id": "b_ppJewIkEJd",
        "colab_type": "code",
        "outputId": "3e29b2cf-7ad5-4848-c768-83f1b0207ba3",
        "colab": {
          "base_uri": "https://localhost:8080/",
          "height": 592
        }
      },
      "source": [
        "# Plot with this new semi-supervised setup\n",
        "plot_points(X, y_prime)"
      ],
      "execution_count": 6,
      "outputs": [
        {
          "output_type": "display_data",
          "data": {
            "image/png": "[encoded data removed]",
            "text/plain": [
              "<Figure size 720x720 with 1 Axes>"
            ]
          },
          "metadata": {
            "tags": []
          }
        }
      ]
    },
    {
      "cell_type": "markdown",
      "metadata": {
        "id": "9Jr2xD_FoMD2",
        "colab_type": "text"
      },
      "source": [
        "# Comparison with local methods\n",
        "\n",
        "We will perform learning using an SVM and k-NN, which are more local methods to compare with label propagation."
      ]
    },
    {
      "cell_type": "markdown",
      "metadata": {
        "id": "JYUV3ZUIoWGX",
        "colab_type": "text"
      },
      "source": [
        "## SVM with RBF\n",
        "\n",
        "We will use a support vector machine with a radial basis function ('RBF') kernel to account for the non linear data. Incidentially, this is the same kernel used to construct the weight matrix for the graph in the label propagation algorithm."
      ]
    },
    {
      "cell_type": "code",
      "metadata": {
        "id": "u3kW-FhqkHb-",
        "colab_type": "code",
        "colab": {}
      },
      "source": [
        "# Create the training and test data\n",
        "X_train = np.vstack((X[X_min], X[X_max]))\n",
        "y_train = np.array([0,1])\n",
        "\n",
        "X_test = np.delete(X, (X_min, X_max), axis=0)"
      ],
      "execution_count": 0,
      "outputs": []
    },
    {
      "cell_type": "code",
      "metadata": {
        "id": "KUak1MlWkil2",
        "colab_type": "code",
        "outputId": "a72a08f9-bf67-4ce6-e64a-4d7ef90986d0",
        "colab": {
          "base_uri": "https://localhost:8080/",
          "height": 85
        }
      },
      "source": [
        "# Fit the SVM\n",
        "svm_clf = svm.SVC(gamma='scale')\n",
        "svm_clf.fit(X_train, y_train)"
      ],
      "execution_count": 8,
      "outputs": [
        {
          "output_type": "execute_result",
          "data": {
            "text/plain": [
              "SVC(C=1.0, cache_size=200, class_weight=None, coef0=0.0,\n",
              "    decision_function_shape='ovr', degree=3, gamma='scale', kernel='rbf',\n",
              "    max_iter=-1, probability=False, random_state=None, shrinking=True,\n",
              "    tol=0.001, verbose=False)"
            ]
          },
          "metadata": {
            "tags": []
          },
          "execution_count": 8
        }
      ]
    },
    {
      "cell_type": "code",
      "metadata": {
        "id": "LTFfUOMJkvEw",
        "colab_type": "code",
        "colab": {}
      },
      "source": [
        "# Get the predictions for the test data\n",
        "svm_preds = svm_clf.predict(X_test)"
      ],
      "execution_count": 0,
      "outputs": []
    },
    {
      "cell_type": "markdown",
      "metadata": {
        "id": "2iQ3kmyOuftf",
        "colab_type": "text"
      },
      "source": [
        "The predictions of the SVM (shown with + markers) and the labelled training data are shown below. The SVM neglects the global two moon shape as it only has the two training points to construct the margin. Hence we can expect the decision boundary to cut vertically through the middle."
      ]
    },
    {
      "cell_type": "code",
      "metadata": {
        "id": "RPETvnJrk4P2",
        "colab_type": "code",
        "outputId": "e45f3b3d-d7aa-4f42-c8a8-cfc5198ace09",
        "colab": {
          "base_uri": "https://localhost:8080/",
          "height": 592
        }
      },
      "source": [
        "plot_points(X_train, y_train, X_test, svm_preds)"
      ],
      "execution_count": 10,
      "outputs": [
        {
          "output_type": "display_data",
          "data": {
            "image/png": "[encoded data removed]",
            "text/plain": [
              "<Figure size 720x720 with 1 Axes>"
            ]
          },
          "metadata": {
            "tags": []
          }
        }
      ]
    },
    {
      "cell_type": "markdown",
      "metadata": {
        "id": "2PUUWmspvBJ2",
        "colab_type": "text"
      },
      "source": [
        "## k-NN\n",
        "\n",
        "To emphasise the local nature of k-NN, we will set k to be 1. In other words, we will classify the points depending on its closest neighbour."
      ]
    },
    {
      "cell_type": "code",
      "metadata": {
        "id": "FdaOc5eur-RN",
        "colab_type": "code",
        "outputId": "8c588889-4a7b-4412-d045-5425c3edbc06",
        "colab": {
          "base_uri": "https://localhost:8080/",
          "height": 68
        }
      },
      "source": [
        "# Fit the 1-NN\n",
        "knn_clf = KNeighborsClassifier(n_neighbors=1)\n",
        "knn_clf.fit(X_train, y_train)"
      ],
      "execution_count": 11,
      "outputs": [
        {
          "output_type": "execute_result",
          "data": {
            "text/plain": [
              "KNeighborsClassifier(algorithm='auto', leaf_size=30, metric='minkowski',\n",
              "                     metric_params=None, n_jobs=None, n_neighbors=1, p=2,\n",
              "                     weights='uniform')"
            ]
          },
          "metadata": {
            "tags": []
          },
          "execution_count": 11
        }
      ]
    },
    {
      "cell_type": "code",
      "metadata": {
        "id": "neURhmcCuUYn",
        "colab_type": "code",
        "colab": {}
      },
      "source": [
        "# Obtain 1-NN predictions\n",
        "knn_preds = knn_clf.predict(X_test)"
      ],
      "execution_count": 0,
      "outputs": []
    },
    {
      "cell_type": "markdown",
      "metadata": {
        "id": "ZjvXNLQDwB0U",
        "colab_type": "text"
      },
      "source": [
        "With 1-NN we get a similar result to the SVM."
      ]
    },
    {
      "cell_type": "code",
      "metadata": {
        "id": "p-iPwxPEv2ye",
        "colab_type": "code",
        "outputId": "fb6ed1a4-1cf9-44b3-ddfc-0180fbf4f2a9",
        "colab": {
          "base_uri": "https://localhost:8080/",
          "height": 592
        }
      },
      "source": [
        "plot_points(X_train, y_train, X_test, knn_preds)"
      ],
      "execution_count": 13,
      "outputs": [
        {
          "output_type": "display_data",
          "data": {
            "image/png": "[encoded data removed]",
            "text/plain": [
              "<Figure size 720x720 with 1 Axes>"
            ]
          },
          "metadata": {
            "tags": []
          }
        }
      ]
    },
    {
      "cell_type": "markdown",
      "metadata": {
        "id": "SnC8pDG8wTco",
        "colab_type": "text"
      },
      "source": [
        "# Label Propagation Implementation"
      ]
    },
    {
      "cell_type": "markdown",
      "metadata": {
        "id": "u1CcZEEw87z2",
        "colab_type": "text"
      },
      "source": [
        "Let's start by creating the weight matrix. We will use the Gaussian kernel:\n",
        "\n",
        "$$\\textbf{W}_{ij} = e^{-\\frac{\\lvert\\lvert x_i - x_j \\rvert\\rvert^2}{2 \\sigma^2}}$$\n",
        "\n",
        "Note $\\sigma$ is a hyperparameter."
      ]
    },
    {
      "cell_type": "code",
      "metadata": {
        "id": "fGyPVvWdehB5",
        "colab_type": "code",
        "colab": {}
      },
      "source": [
        "def gaussian_kernel(X, sigma):\n",
        "  X2 = np.sum(X**2, axis=-1)\n",
        "  return np.exp(-(0.5*sigma) * (X2[:, np.newaxis] + X2[np.newaxis,:] - 2*np.dot(X, X.T)))"
      ],
      "execution_count": 0,
      "outputs": []
    },
    {
      "cell_type": "code",
      "metadata": {
        "colab_type": "code",
        "id": "LyNTyRY8eITK",
        "colab": {}
      },
      "source": [
        "W = gaussian_kernel(X, 40)"
      ],
      "execution_count": 0,
      "outputs": []
    },
    {
      "cell_type": "markdown",
      "metadata": {
        "colab_type": "text",
        "id": "bZMKGUoaeHAU"
      },
      "source": [
        "From the Gaussian kernel, let's calculate its summation."
      ]
    },
    {
      "cell_type": "code",
      "metadata": {
        "id": "7jcCFemD6k_0",
        "colab_type": "code",
        "colab": {}
      },
      "source": [
        "D = np.sum(W, axis=0)"
      ],
      "execution_count": 0,
      "outputs": []
    },
    {
      "cell_type": "markdown",
      "metadata": {
        "id": "9GzwkaPABm2L",
        "colab_type": "text"
      },
      "source": [
        "Using W and D, let's get the transition matrix:"
      ]
    },
    {
      "cell_type": "code",
      "metadata": {
        "id": "GGQnsRjw6q-0",
        "colab_type": "code",
        "colab": {}
      },
      "source": [
        "T = W / D[:, np.newaxis]"
      ],
      "execution_count": 0,
      "outputs": []
    },
    {
      "cell_type": "markdown",
      "metadata": {
        "id": "UZh6fNBXBuGS",
        "colab_type": "text"
      },
      "source": [
        "Now let's create $\\hat{Y}^{(0)}$. where it contains both $Y_{train}$ and $\\hat{Y}^{(0)}_{test}$. As we have two classes $C \\in \\{0, 1\\}$ and 100 data points, we need to make  $\\hat{Y}^{(0)}$ a $100 \\times 2$ vector. We can set the certainty of $Y_{train}$ to be $1$ with respect to their labels as they are known. The initialisation of $\\hat{Y}^{(0)}_{test}$ is less important so we can set them to zeroes."
      ]
    },
    {
      "cell_type": "code",
      "metadata": {
        "id": "vs1XauS1fxM8",
        "colab_type": "code",
        "colab": {}
      },
      "source": [
        "y_hat = np.zeros((len(X), 2))\n",
        "\n",
        "# Add labels where the labelled data is located\n",
        "y_hat[X_min,0] = 1\n",
        "y_hat[X_max,1] = 1\n",
        "\n",
        "# For ease of fitting, record where the labelled data is originally stored\n",
        "where_labelled = (y_prime != -1)"
      ],
      "execution_count": 0,
      "outputs": []
    },
    {
      "cell_type": "markdown",
      "metadata": {
        "colab_type": "text",
        "id": "fbpXcMGpeLxJ"
      },
      "source": [
        "Now let's define the training loop for label propagation. For this, we need to set a $\\delta$ as a condition to stop training."
      ]
    },
    {
      "cell_type": "code",
      "metadata": {
        "id": "uyCmteOaa6ow",
        "colab_type": "code",
        "colab": {}
      },
      "source": [
        "def lp_fit(T, y_hat, where_labelled, X_train, delta=1e-3, max_iter=1000):\n",
        "  # Store the initial value f y_hat for clamping\n",
        "  y_0 = y_hat\n",
        "  # Initialise vector to hold previous values of y_hat\n",
        "  y_prev = np.zeros((y_hat.shape))\n",
        "  # Loop until condition is met\n",
        "  while(np.sum(np.abs(y_hat - y_prev)) > delta or max_iter == 0):\n",
        "    y_prev = y_hat\n",
        "    # Conduct label propagation\n",
        "    y_hat = np.dot(T, y_hat)\n",
        "    # Normalise\n",
        "    y_hat = y_hat / np.sum(y_hat, axis=1).reshape(-1,1)\n",
        "    # Clamp the data. If labelled, replace with original values\n",
        "    y_hat = np.where(where_labelled[:, np.newaxis], y_0, y_hat)\n",
        "    max_iter -= 1\n",
        "  # Convert back into hard labels\n",
        "  result = np.argmax(y_hat, axis=1)\n",
        "  return result"
      ],
      "execution_count": 0,
      "outputs": []
    },
    {
      "cell_type": "code",
      "metadata": {
        "id": "9ZB3_2Gbf8mY",
        "colab_type": "code",
        "colab": {}
      },
      "source": [
        "# Perform label propagation\n",
        "fit_data = lp_fit(T, y_hat, where_labelled, X_train)"
      ],
      "execution_count": 0,
      "outputs": []
    },
    {
      "cell_type": "markdown",
      "metadata": {
        "id": "dUcAchZajhs-",
        "colab_type": "text"
      },
      "source": [
        "Let's get predictions for the test set by removing the training entries in the fit data."
      ]
    },
    {
      "cell_type": "code",
      "metadata": {
        "id": "OvZ_XWD7hmFJ",
        "colab_type": "code",
        "colab": {}
      },
      "source": [
        "lp_preds = np.delete(fit_data, (X_min, X_max), axis=0)"
      ],
      "execution_count": 0,
      "outputs": []
    },
    {
      "cell_type": "markdown",
      "metadata": {
        "id": "WY9eCWWjkGan",
        "colab_type": "text"
      },
      "source": [
        "Finally, let's plot the results. As label propagation is transductive and takes into account the test data, although not perfect due to noise, we can see it recognises the two moon shape."
      ]
    },
    {
      "cell_type": "code",
      "metadata": {
        "id": "ERST4qyjjBzB",
        "colab_type": "code",
        "colab": {
          "base_uri": "https://localhost:8080/",
          "height": 592
        },
        "outputId": "c7fc3830-b4f6-49ed-a926-2a476c00f17a"
      },
      "source": [
        "plot_points(X_train, y_train, X_test, lp_preds)"
      ],
      "execution_count": 22,
      "outputs": [
        {
          "output_type": "display_data",
          "data": {
            "image/png": "[encoded data removed]",
            "text/plain": [
              "<Figure size 720x720 with 1 Axes>"
            ]
          },
          "metadata": {
            "tags": []
          }
        }
      ]
    }
  ]
}